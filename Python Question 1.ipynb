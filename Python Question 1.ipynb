{
 "cells": [
  {
   "cell_type": "markdown",
   "id": "6cc7aa35",
   "metadata": {},
   "source": [
    "Question 1\n",
    "\n",
    "You have an input dictionary given,\n",
    "\n",
    "input_dict = {\"abc\":{\"def\":{\"ghi\":{\"jkl\":{\"mno\":{\"pqr\":{\"stu\":{\"vwx\":{\"yz\":\"you are finally here !!!\"}}}}}}}}}\n",
    "\n",
    "Task:  You have to write a Python function that will take this input and print it like that,\n",
    "\n",
    "output = {\"abc\":[\"def\",\"ghi\",\"jkl\",\"mno\",\"pqr\",\"stu\",\"vwx\",\"yz\"],\n",
    " \"def\":[\"ghi\",\"jkl\",\"mno\",\"pqr\",\"stu\",\"vwx\",\"yz\"],\n",
    " \"ghi\":[\"jkl\",\"mno\",\"pqr\",\"stu\",\"vwx\",\"yz\"],\n",
    " \"jkl\":[\"mno\",\"pqr\",\"stu\",\"vwx\",\"yz\"],\n",
    " \"mno\":[\"pqr\",\"stu\",\"vwx\",\"yz\"],\n",
    " \"pqr\":[\"stu\",\"vwx\",\"yz\"],\n",
    " \"stu\":[\"vwx\",\"yz\"],\n",
    " \"vwx\":[\"yz\"],\n",
    " \"yz\":[\"you are finally here !!!\"]}\n"
   ]
  },
  {
   "cell_type": "code",
   "execution_count": 17,
   "id": "e510cf08",
   "metadata": {},
   "outputs": [
    {
     "name": "stdout",
     "output_type": "stream",
     "text": [
      "{'abc': ['abc'], 'abc.def': ['def'], 'abc.def.ghi': ['ghi'], 'abc.def.ghi.jkl': ['jkl'], 'abc.def.ghi.jkl.mno': ['mno'], 'abc.def.ghi.jkl.mno.pqr': ['pqr'], 'abc.def.ghi.jkl.mno.pqr.stu': ['stu'], 'abc.def.ghi.jkl.mno.pqr.stu.vwx': ['vwx'], 'abc.def.ghi.jkl.mno.pqr.stu.vwx.yz': 'you are finally here !!!'}\n"
     ]
    }
   ],
   "source": [
    "def extract_keys(input_dict, prefix=None):\n",
    "    if prefix is None:\n",
    "        prefix = []\n",
    "    output = {}\n",
    "    for key, value in input_dict.items():\n",
    "        if isinstance(value, dict):\n",
    "            sub_output = extract_keys(value, prefix + [key])\n",
    "            output.update(sub_output)\n",
    "        else:\n",
    "            output['.'.join(prefix + [key])] = value\n",
    "    return output\n",
    "\n",
    "def format_output(input_dict):\n",
    "    keys = extract_keys(input_dict)\n",
    "    output = {}\n",
    "    for key, value in keys.items():\n",
    "        parts = key.split('.')\n",
    "        for i in range(len(parts)):\n",
    "            new_key = '.'.join(parts[:i+1])\n",
    "            if new_key not in output:\n",
    "                output[new_key] = [parts[i]]\n",
    "            else:\n",
    "                output[new_key].append(parts[i])\n",
    "        output[key] = value\n",
    "    return output\n",
    "\n",
    "input_dict = {\"abc\":{\"def\":{\"ghi\":{\"jkl\":{\"mno\":{\"pqr\":{\"stu\":{\"vwx\":{\"yz\":\"you are finally here !!!\"}}}}}}}}}\n",
    "output = format_output(input_dict)\n",
    "print(output)\n"
   ]
  }
 ],
 "metadata": {
  "kernelspec": {
   "display_name": "Python 3 (ipykernel)",
   "language": "python",
   "name": "python3"
  },
  "language_info": {
   "codemirror_mode": {
    "name": "ipython",
    "version": 3
   },
   "file_extension": ".py",
   "mimetype": "text/x-python",
   "name": "python",
   "nbconvert_exporter": "python",
   "pygments_lexer": "ipython3",
   "version": "3.10.9"
  }
 },
 "nbformat": 4,
 "nbformat_minor": 5
}
